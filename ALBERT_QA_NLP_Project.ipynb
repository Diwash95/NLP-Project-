{
  "nbformat": 4,
  "nbformat_minor": 0,
  "metadata": {
    "colab": {
      "name": "ALBERT QA NLP Project.ipynb",
      "provenance": [],
      "collapsed_sections": []
    },
    "kernelspec": {
      "name": "python3",
      "display_name": "Python 3"
    },
    "language_info": {
      "name": "python"
    }
  },
  "cells": [
    {
      "cell_type": "markdown",
      "source": [
        ""
      ],
      "metadata": {
        "id": "15jBwjjPQSW9"
      }
    },
    {
      "cell_type": "markdown",
      "source": [
        "##References\n",
        "[1] Z. Zhang, H. Zhao, and R. Wang, “Machine Reading Comprehension: The Role of Contextualized Language Models and Beyond,” CoRR, vol. abs/2005.06249, 2020, [Online]. Available: https://arxiv.org/abs/2005.06249 \n",
        "\n",
        "[2] Y. Liu et al., “RoBERTa: A Robustly Optimized BERT Pretraining Approach,” CoRR, vol. abs/1907.11692, 2019, [Online]. Available: http://arxiv.org/abs/1907.11692 \n",
        "\n",
        "[3] J. Ni, T. Young, V. Pandelea, F. Xue, V. Adiga, and E. Cambria, “Recent Advances in Deep Learning Based Dialogue Systems: A Systematic Survey,” CoRR, vol. abs/2105.04387, 2021, [Online]. Available: https://arxiv.org/abs/2105.04387\n",
        "\n",
        "[4] P. Dwivedi, “NLP - building a question answering model,” Medium, 11-Jul-2018. [Online]. Available: https://towardsdatascience.com/nlp-building-a-question-answering-model-ed0529a68c54. [Accessed: 15-Apr-2022].\n",
        "\n",
        "[5] P. Rajpurkar, J. Zhang, K. Lopyrev, and P. Liang, “SQuAD: 100,000+ Questions for Machine Comprehension of Text,” arXiv e-prints, p. earXiv:1606.05250, 2016.\n",
        "\n",
        "[6] https://towardsdatascience.com/question-answering-with-a-fine-tuned-bert-bc4dafd45626\n",
        "\n",
        "[7]https://towardsdatascience.com/how-to-apply-transformers-to-any-length-of-text-a5601410af7f"
      ],
      "metadata": {
        "id": "TtJKrGAindWO"
      }
    },
    {
      "cell_type": "markdown",
      "source": [
        "https://docs.google.com/document/d/1GK8YMhgOiYgy6CW2nGHvyN1LWDCAaarK/edit?usp=sharing&ouid=106070442521992905253&rtpof=true&sd=true"
      ],
      "metadata": {
        "id": "m8gR2czMJC1D"
      }
    },
    {
      "cell_type": "markdown",
      "source": [
        "Squad V2 dataset card: https://huggingface.co/datasets/squad_v2"
      ],
      "metadata": {
        "id": "HSMjpWm8E84N"
      }
    },
    {
      "cell_type": "markdown",
      "source": [
        "Huggingface documentation: https://huggingface.co/docs/datasets/tutorial"
      ],
      "metadata": {
        "id": "PPa7uRJPFWLB"
      }
    },
    {
      "cell_type": "markdown",
      "source": [
        "Transformers library documentation: https://huggingface.co/docs/transformers/index"
      ],
      "metadata": {
        "id": "uK3QwevRJWX7"
      }
    },
    {
      "cell_type": "markdown",
      "source": [
        "Deepset roberta base model: https://huggingface.co/deepset/roberta-base-squad2"
      ],
      "metadata": {
        "id": "3SRf9jjMKZX9"
      }
    },
    {
      "cell_type": "markdown",
      "source": [
        "ref : https://www.analyticsvidhya.com/blog/2021/11/end-to-end-question-answering-system-using-nlp-and-squad-dataset/\n"
      ],
      "metadata": {
        "id": "xiintDh54z_h"
      }
    },
    {
      "cell_type": "markdown",
      "source": [
        "ref : https://blog.paperspace.com/how-to-train-question-answering-machine-learning-models/"
      ],
      "metadata": {
        "id": "z_yWKWkW5Jfl"
      }
    },
    {
      "cell_type": "markdown",
      "source": [
        "ref: https://paperswithcode.com/sota/question-answering-on-squad20"
      ],
      "metadata": {
        "id": "NRIR3cum5ZPX"
      }
    },
    {
      "cell_type": "markdown",
      "source": [
        "ref : https://blog.seeburger.com/natural-language-question-answering-systems-get-quick-answers-to-concrete-questions/\n"
      ],
      "metadata": {
        "id": "gvzNXMJm6OzK"
      }
    },
    {
      "cell_type": "markdown",
      "source": [
        "code ref:\n",
        "\n",
        " https://github.com/aashaar/Question-Answering-System-NLP\n",
        "\n",
        "https://github.com/sainikhithamadduri/Question-Answering-System-NLP\n",
        "\n",
        "https://github.com/habildamania/Question-Answering-System\n"
      ],
      "metadata": {
        "id": "h26Fe4ki5psd"
      }
    },
    {
      "cell_type": "markdown",
      "source": [
        "https://github.com/pradeepdev-1995/Question-answering-python\n",
        "\n",
        "https://github.com/upasana05ghosh/Question-Answering-System"
      ],
      "metadata": {
        "id": "A0-pragoXSxa"
      }
    },
    {
      "cell_type": "markdown",
      "source": [
        "https://github.com/kushalj001/pytorch-question-answering/blob/master/0.%20NLP%20Preprocessing%20Pipeline%20for%20QA.ipynb"
      ],
      "metadata": {
        "id": "TmG0gkQKW9FX"
      }
    },
    {
      "cell_type": "markdown",
      "source": [
        ""
      ],
      "metadata": {
        "id": "GtBKkYQCXSBN"
      }
    },
    {
      "cell_type": "code",
      "source": [
        "!pip install datasets\n",
        "!pip install transformers"
      ],
      "metadata": {
        "colab": {
          "base_uri": "https://localhost:8080/",
          "height": 780
        },
        "id": "N5L0X1UbCZrP",
        "outputId": "ef951704-2d01-4d4b-83ac-c9f97942c6a4"
      },
      "execution_count": null,
      "outputs": [
        {
          "output_type": "stream",
          "name": "stdout",
          "text": [
            "Collecting transformers\n",
            "  Downloading transformers-4.17.0-py3-none-any.whl (3.8 MB)\n",
            "\u001b[K     |████████████████████████████████| 3.8 MB 4.4 MB/s \n",
            "\u001b[?25hRequirement already satisfied: packaging>=20.0 in /usr/local/lib/python3.7/dist-packages (from transformers) (21.3)\n",
            "Collecting sacremoses\n",
            "  Downloading sacremoses-0.0.49-py3-none-any.whl (895 kB)\n",
            "\u001b[K     |████████████████████████████████| 895 kB 40.9 MB/s \n",
            "\u001b[?25hRequirement already satisfied: filelock in /usr/local/lib/python3.7/dist-packages (from transformers) (3.6.0)\n",
            "Collecting pyyaml>=5.1\n",
            "  Downloading PyYAML-6.0-cp37-cp37m-manylinux_2_5_x86_64.manylinux1_x86_64.manylinux_2_12_x86_64.manylinux2010_x86_64.whl (596 kB)\n",
            "\u001b[K     |████████████████████████████████| 596 kB 41.5 MB/s \n",
            "\u001b[?25hCollecting tokenizers!=0.11.3,>=0.11.1\n",
            "  Downloading tokenizers-0.11.6-cp37-cp37m-manylinux_2_12_x86_64.manylinux2010_x86_64.whl (6.5 MB)\n",
            "\u001b[K     |████████████████████████████████| 6.5 MB 38.5 MB/s \n",
            "\u001b[?25hRequirement already satisfied: tqdm>=4.27 in /usr/local/lib/python3.7/dist-packages (from transformers) (4.63.0)\n",
            "Requirement already satisfied: requests in /usr/local/lib/python3.7/dist-packages (from transformers) (2.23.0)\n",
            "Requirement already satisfied: regex!=2019.12.17 in /usr/local/lib/python3.7/dist-packages (from transformers) (2019.12.20)\n",
            "Requirement already satisfied: importlib-metadata in /usr/local/lib/python3.7/dist-packages (from transformers) (4.11.3)\n",
            "Requirement already satisfied: numpy>=1.17 in /usr/local/lib/python3.7/dist-packages (from transformers) (1.21.5)\n",
            "Requirement already satisfied: huggingface-hub<1.0,>=0.1.0 in /usr/local/lib/python3.7/dist-packages (from transformers) (0.4.0)\n",
            "Requirement already satisfied: typing-extensions>=3.7.4.3 in /usr/local/lib/python3.7/dist-packages (from huggingface-hub<1.0,>=0.1.0->transformers) (3.10.0.2)\n",
            "Requirement already satisfied: pyparsing!=3.0.5,>=2.0.2 in /usr/local/lib/python3.7/dist-packages (from packaging>=20.0->transformers) (3.0.7)\n",
            "Requirement already satisfied: zipp>=0.5 in /usr/local/lib/python3.7/dist-packages (from importlib-metadata->transformers) (3.7.0)\n",
            "Requirement already satisfied: certifi>=2017.4.17 in /usr/local/lib/python3.7/dist-packages (from requests->transformers) (2021.10.8)\n",
            "Requirement already satisfied: chardet<4,>=3.0.2 in /usr/local/lib/python3.7/dist-packages (from requests->transformers) (3.0.4)\n",
            "Requirement already satisfied: idna<3,>=2.5 in /usr/local/lib/python3.7/dist-packages (from requests->transformers) (2.10)\n",
            "Requirement already satisfied: urllib3!=1.25.0,!=1.25.1,<1.26,>=1.21.1 in /usr/local/lib/python3.7/dist-packages (from requests->transformers) (1.25.11)\n",
            "Requirement already satisfied: six in /usr/local/lib/python3.7/dist-packages (from sacremoses->transformers) (1.15.0)\n",
            "Requirement already satisfied: joblib in /usr/local/lib/python3.7/dist-packages (from sacremoses->transformers) (1.1.0)\n",
            "Requirement already satisfied: click in /usr/local/lib/python3.7/dist-packages (from sacremoses->transformers) (7.1.2)\n",
            "Installing collected packages: pyyaml, tokenizers, sacremoses, transformers\n",
            "  Attempting uninstall: pyyaml\n",
            "    Found existing installation: PyYAML 3.13\n",
            "    Uninstalling PyYAML-3.13:\n",
            "      Successfully uninstalled PyYAML-3.13\n",
            "Successfully installed pyyaml-6.0 sacremoses-0.0.49 tokenizers-0.11.6 transformers-4.17.0\n"
          ]
        },
        {
          "output_type": "display_data",
          "data": {
            "application/vnd.colab-display-data+json": {
              "pip_warning": {
                "packages": [
                  "yaml"
                ]
              }
            }
          },
          "metadata": {}
        }
      ]
    },
    {
      "cell_type": "code",
      "source": [
        "# get transformers then bert along with other libraries\n",
        "import pandas as pd\n",
        "import numpy as np\n",
        "import matplotlib.pyplot as plt\n",
        "import seaborn as sns\n",
        "!pip install transformers\n",
        "import torch\n",
        "from transformers import BertForQuestionAnswering\n",
        "from transformers import BertTokenizer"
      ],
      "metadata": {
        "colab": {
          "base_uri": "https://localhost:8080/"
        },
        "id": "vtrE_Y4ersBz",
        "outputId": "7070ee4a-9b7a-4f3a-9728-1a217060c34f"
      },
      "execution_count": 2,
      "outputs": [
        {
          "output_type": "stream",
          "name": "stdout",
          "text": [
            "Collecting transformers\n",
            "  Downloading transformers-4.18.0-py3-none-any.whl (4.0 MB)\n",
            "\u001b[K     |████████████████████████████████| 4.0 MB 4.0 MB/s \n",
            "\u001b[?25hRequirement already satisfied: requests in /usr/local/lib/python3.7/dist-packages (from transformers) (2.23.0)\n",
            "Collecting pyyaml>=5.1\n",
            "  Downloading PyYAML-6.0-cp37-cp37m-manylinux_2_5_x86_64.manylinux1_x86_64.manylinux_2_12_x86_64.manylinux2010_x86_64.whl (596 kB)\n",
            "\u001b[K     |████████████████████████████████| 596 kB 32.4 MB/s \n",
            "\u001b[?25hCollecting huggingface-hub<1.0,>=0.1.0\n",
            "  Downloading huggingface_hub-0.5.1-py3-none-any.whl (77 kB)\n",
            "\u001b[K     |████████████████████████████████| 77 kB 5.4 MB/s \n",
            "\u001b[?25hRequirement already satisfied: filelock in /usr/local/lib/python3.7/dist-packages (from transformers) (3.6.0)\n",
            "Collecting sacremoses\n",
            "  Downloading sacremoses-0.0.49-py3-none-any.whl (895 kB)\n",
            "\u001b[K     |████████████████████████████████| 895 kB 59.4 MB/s \n",
            "\u001b[?25hRequirement already satisfied: importlib-metadata in /usr/local/lib/python3.7/dist-packages (from transformers) (4.11.3)\n",
            "Collecting tokenizers!=0.11.3,<0.13,>=0.11.1\n",
            "  Downloading tokenizers-0.12.1-cp37-cp37m-manylinux_2_12_x86_64.manylinux2010_x86_64.whl (6.6 MB)\n",
            "\u001b[K     |████████████████████████████████| 6.6 MB 34.5 MB/s \n",
            "\u001b[?25hRequirement already satisfied: packaging>=20.0 in /usr/local/lib/python3.7/dist-packages (from transformers) (21.3)\n",
            "Requirement already satisfied: numpy>=1.17 in /usr/local/lib/python3.7/dist-packages (from transformers) (1.21.5)\n",
            "Requirement already satisfied: tqdm>=4.27 in /usr/local/lib/python3.7/dist-packages (from transformers) (4.64.0)\n",
            "Requirement already satisfied: regex!=2019.12.17 in /usr/local/lib/python3.7/dist-packages (from transformers) (2019.12.20)\n",
            "Requirement already satisfied: typing-extensions>=3.7.4.3 in /usr/local/lib/python3.7/dist-packages (from huggingface-hub<1.0,>=0.1.0->transformers) (4.1.1)\n",
            "Requirement already satisfied: pyparsing!=3.0.5,>=2.0.2 in /usr/local/lib/python3.7/dist-packages (from packaging>=20.0->transformers) (3.0.8)\n",
            "Requirement already satisfied: zipp>=0.5 in /usr/local/lib/python3.7/dist-packages (from importlib-metadata->transformers) (3.8.0)\n",
            "Requirement already satisfied: idna<3,>=2.5 in /usr/local/lib/python3.7/dist-packages (from requests->transformers) (2.10)\n",
            "Requirement already satisfied: chardet<4,>=3.0.2 in /usr/local/lib/python3.7/dist-packages (from requests->transformers) (3.0.4)\n",
            "Requirement already satisfied: urllib3!=1.25.0,!=1.25.1,<1.26,>=1.21.1 in /usr/local/lib/python3.7/dist-packages (from requests->transformers) (1.24.3)\n",
            "Requirement already satisfied: certifi>=2017.4.17 in /usr/local/lib/python3.7/dist-packages (from requests->transformers) (2021.10.8)\n",
            "Requirement already satisfied: click in /usr/local/lib/python3.7/dist-packages (from sacremoses->transformers) (7.1.2)\n",
            "Requirement already satisfied: six in /usr/local/lib/python3.7/dist-packages (from sacremoses->transformers) (1.15.0)\n",
            "Requirement already satisfied: joblib in /usr/local/lib/python3.7/dist-packages (from sacremoses->transformers) (1.1.0)\n",
            "Installing collected packages: pyyaml, tokenizers, sacremoses, huggingface-hub, transformers\n",
            "  Attempting uninstall: pyyaml\n",
            "    Found existing installation: PyYAML 3.13\n",
            "    Uninstalling PyYAML-3.13:\n",
            "      Successfully uninstalled PyYAML-3.13\n",
            "Successfully installed huggingface-hub-0.5.1 pyyaml-6.0 sacremoses-0.0.49 tokenizers-0.12.1 transformers-4.18.0\n"
          ]
        }
      ]
    },
    {
      "cell_type": "code",
      "source": [
        "#get dataset \n",
        "dataset = pd.read_json('http://downloads.cs.stanford.edu/nlp/data/coqa/coqa-train-v1.0.json')\n",
        "dataset.head()"
      ],
      "metadata": {
        "colab": {
          "base_uri": "https://localhost:8080/",
          "height": 206
        },
        "id": "qAN3Qefcrr-j",
        "outputId": "7021482d-1759-48c4-b3dd-6be8f8106783"
      },
      "execution_count": 3,
      "outputs": [
        {
          "output_type": "execute_result",
          "data": {
            "text/plain": [
              "   version                                               data\n",
              "0        1  {'source': 'wikipedia', 'id': '3zotghdk5ibi9ce...\n",
              "1        1  {'source': 'cnn', 'id': '3wj1oxy92agboo5nlq4r7...\n",
              "2        1  {'source': 'gutenberg', 'id': '3bdcf01ogxu7zdn...\n",
              "3        1  {'source': 'cnn', 'id': '3ewijtffvo7wwchw6rtya...\n",
              "4        1  {'source': 'gutenberg', 'id': '3urfvvm165iantk..."
            ],
            "text/html": [
              "\n",
              "  <div id=\"df-435473b8-2b50-4282-98d5-94b8aa286e51\">\n",
              "    <div class=\"colab-df-container\">\n",
              "      <div>\n",
              "<style scoped>\n",
              "    .dataframe tbody tr th:only-of-type {\n",
              "        vertical-align: middle;\n",
              "    }\n",
              "\n",
              "    .dataframe tbody tr th {\n",
              "        vertical-align: top;\n",
              "    }\n",
              "\n",
              "    .dataframe thead th {\n",
              "        text-align: right;\n",
              "    }\n",
              "</style>\n",
              "<table border=\"1\" class=\"dataframe\">\n",
              "  <thead>\n",
              "    <tr style=\"text-align: right;\">\n",
              "      <th></th>\n",
              "      <th>version</th>\n",
              "      <th>data</th>\n",
              "    </tr>\n",
              "  </thead>\n",
              "  <tbody>\n",
              "    <tr>\n",
              "      <th>0</th>\n",
              "      <td>1</td>\n",
              "      <td>{'source': 'wikipedia', 'id': '3zotghdk5ibi9ce...</td>\n",
              "    </tr>\n",
              "    <tr>\n",
              "      <th>1</th>\n",
              "      <td>1</td>\n",
              "      <td>{'source': 'cnn', 'id': '3wj1oxy92agboo5nlq4r7...</td>\n",
              "    </tr>\n",
              "    <tr>\n",
              "      <th>2</th>\n",
              "      <td>1</td>\n",
              "      <td>{'source': 'gutenberg', 'id': '3bdcf01ogxu7zdn...</td>\n",
              "    </tr>\n",
              "    <tr>\n",
              "      <th>3</th>\n",
              "      <td>1</td>\n",
              "      <td>{'source': 'cnn', 'id': '3ewijtffvo7wwchw6rtya...</td>\n",
              "    </tr>\n",
              "    <tr>\n",
              "      <th>4</th>\n",
              "      <td>1</td>\n",
              "      <td>{'source': 'gutenberg', 'id': '3urfvvm165iantk...</td>\n",
              "    </tr>\n",
              "  </tbody>\n",
              "</table>\n",
              "</div>\n",
              "      <button class=\"colab-df-convert\" onclick=\"convertToInteractive('df-435473b8-2b50-4282-98d5-94b8aa286e51')\"\n",
              "              title=\"Convert this dataframe to an interactive table.\"\n",
              "              style=\"display:none;\">\n",
              "        \n",
              "  <svg xmlns=\"http://www.w3.org/2000/svg\" height=\"24px\"viewBox=\"0 0 24 24\"\n",
              "       width=\"24px\">\n",
              "    <path d=\"M0 0h24v24H0V0z\" fill=\"none\"/>\n",
              "    <path d=\"M18.56 5.44l.94 2.06.94-2.06 2.06-.94-2.06-.94-.94-2.06-.94 2.06-2.06.94zm-11 1L8.5 8.5l.94-2.06 2.06-.94-2.06-.94L8.5 2.5l-.94 2.06-2.06.94zm10 10l.94 2.06.94-2.06 2.06-.94-2.06-.94-.94-2.06-.94 2.06-2.06.94z\"/><path d=\"M17.41 7.96l-1.37-1.37c-.4-.4-.92-.59-1.43-.59-.52 0-1.04.2-1.43.59L10.3 9.45l-7.72 7.72c-.78.78-.78 2.05 0 2.83L4 21.41c.39.39.9.59 1.41.59.51 0 1.02-.2 1.41-.59l7.78-7.78 2.81-2.81c.8-.78.8-2.07 0-2.86zM5.41 20L4 18.59l7.72-7.72 1.47 1.35L5.41 20z\"/>\n",
              "  </svg>\n",
              "      </button>\n",
              "      \n",
              "  <style>\n",
              "    .colab-df-container {\n",
              "      display:flex;\n",
              "      flex-wrap:wrap;\n",
              "      gap: 12px;\n",
              "    }\n",
              "\n",
              "    .colab-df-convert {\n",
              "      background-color: #E8F0FE;\n",
              "      border: none;\n",
              "      border-radius: 50%;\n",
              "      cursor: pointer;\n",
              "      display: none;\n",
              "      fill: #1967D2;\n",
              "      height: 32px;\n",
              "      padding: 0 0 0 0;\n",
              "      width: 32px;\n",
              "    }\n",
              "\n",
              "    .colab-df-convert:hover {\n",
              "      background-color: #E2EBFA;\n",
              "      box-shadow: 0px 1px 2px rgba(60, 64, 67, 0.3), 0px 1px 3px 1px rgba(60, 64, 67, 0.15);\n",
              "      fill: #174EA6;\n",
              "    }\n",
              "\n",
              "    [theme=dark] .colab-df-convert {\n",
              "      background-color: #3B4455;\n",
              "      fill: #D2E3FC;\n",
              "    }\n",
              "\n",
              "    [theme=dark] .colab-df-convert:hover {\n",
              "      background-color: #434B5C;\n",
              "      box-shadow: 0px 1px 3px 1px rgba(0, 0, 0, 0.15);\n",
              "      filter: drop-shadow(0px 1px 2px rgba(0, 0, 0, 0.3));\n",
              "      fill: #FFFFFF;\n",
              "    }\n",
              "  </style>\n",
              "\n",
              "      <script>\n",
              "        const buttonEl =\n",
              "          document.querySelector('#df-435473b8-2b50-4282-98d5-94b8aa286e51 button.colab-df-convert');\n",
              "        buttonEl.style.display =\n",
              "          google.colab.kernel.accessAllowed ? 'block' : 'none';\n",
              "\n",
              "        async function convertToInteractive(key) {\n",
              "          const element = document.querySelector('#df-435473b8-2b50-4282-98d5-94b8aa286e51');\n",
              "          const dataTable =\n",
              "            await google.colab.kernel.invokeFunction('convertToInteractive',\n",
              "                                                     [key], {});\n",
              "          if (!dataTable) return;\n",
              "\n",
              "          const docLinkHtml = 'Like what you see? Visit the ' +\n",
              "            '<a target=\"_blank\" href=https://colab.research.google.com/notebooks/data_table.ipynb>data table notebook</a>'\n",
              "            + ' to learn more about interactive tables.';\n",
              "          element.innerHTML = '';\n",
              "          dataTable['output_type'] = 'display_data';\n",
              "          await google.colab.output.renderOutput(dataTable, element);\n",
              "          const docLink = document.createElement('div');\n",
              "          docLink.innerHTML = docLinkHtml;\n",
              "          element.appendChild(docLink);\n",
              "        }\n",
              "      </script>\n",
              "    </div>\n",
              "  </div>\n",
              "  "
            ]
          },
          "metadata": {},
          "execution_count": 3
        }
      ]
    },
    {
      "cell_type": "code",
      "source": [
        "#delete unnecessary column\n",
        "del dataset[\"version\"]"
      ],
      "metadata": {
        "id": "egTAnD7Yrr7R"
      },
      "execution_count": 4,
      "outputs": []
    },
    {
      "cell_type": "code",
      "source": [
        "# get ready to save only required columns into a new csv file\n",
        "columns = [\"text\",\"question\",\"answer\"]\n",
        "\n",
        "Final_list = []\n",
        "for index, row in dataset.iterrows():\n",
        "    for i in range(len(row[\"data\"][\"questions\"])):\n",
        "        Temporary = []\n",
        "#append data to respective columns then compile\n",
        "        Temporary.append(row[\"data\"][\"story\"])\n",
        "        Temporary.append(row[\"data\"][\"questions\"][i][\"input_text\"])\n",
        "        Temporary.append(row[\"data\"][\"answers\"][i][\"input_text\"])\n",
        "        Final_list.append(Temporary)\n",
        "# store compiled data frame\n",
        "new = pd.DataFrame(Final_list, columns=columns) "
      ],
      "metadata": {
        "id": "znaxlKgxrr3_"
      },
      "execution_count": 5,
      "outputs": []
    },
    {
      "cell_type": "code",
      "source": [
        "#store processed data to new csv file\n",
        "new.to_csv(\"new_data.csv\", index=False)"
      ],
      "metadata": {
        "id": "rGm1UezJrr1I"
      },
      "execution_count": 6,
      "outputs": []
    },
    {
      "cell_type": "code",
      "source": [
        "# read dataset\n",
        "data = pd.read_csv(\"new_data.csv\")\n",
        "data.head()"
      ],
      "metadata": {
        "colab": {
          "base_uri": "https://localhost:8080/",
          "height": 206
        },
        "id": "k0_CqY5Nrrtz",
        "outputId": "f9f610db-29c0-43e6-d039-4b72f6233af3"
      },
      "execution_count": 7,
      "outputs": [
        {
          "output_type": "execute_result",
          "data": {
            "text/plain": [
              "                                                text  \\\n",
              "0  The Vatican Apostolic Library (), more commonl...   \n",
              "1  The Vatican Apostolic Library (), more commonl...   \n",
              "2  The Vatican Apostolic Library (), more commonl...   \n",
              "3  The Vatican Apostolic Library (), more commonl...   \n",
              "4  The Vatican Apostolic Library (), more commonl...   \n",
              "\n",
              "                            question                               answer  \n",
              "0  When was the Vat formally opened?  It was formally established in 1475  \n",
              "1           what is the library for?                             research  \n",
              "2                 for what subjects?                     history, and law  \n",
              "3                               and?     philosophy, science and theology  \n",
              "4          what was started in 2014?                           a  project  "
            ],
            "text/html": [
              "\n",
              "  <div id=\"df-78f0f1ce-f3aa-49a1-a101-11d334781dac\">\n",
              "    <div class=\"colab-df-container\">\n",
              "      <div>\n",
              "<style scoped>\n",
              "    .dataframe tbody tr th:only-of-type {\n",
              "        vertical-align: middle;\n",
              "    }\n",
              "\n",
              "    .dataframe tbody tr th {\n",
              "        vertical-align: top;\n",
              "    }\n",
              "\n",
              "    .dataframe thead th {\n",
              "        text-align: right;\n",
              "    }\n",
              "</style>\n",
              "<table border=\"1\" class=\"dataframe\">\n",
              "  <thead>\n",
              "    <tr style=\"text-align: right;\">\n",
              "      <th></th>\n",
              "      <th>text</th>\n",
              "      <th>question</th>\n",
              "      <th>answer</th>\n",
              "    </tr>\n",
              "  </thead>\n",
              "  <tbody>\n",
              "    <tr>\n",
              "      <th>0</th>\n",
              "      <td>The Vatican Apostolic Library (), more commonl...</td>\n",
              "      <td>When was the Vat formally opened?</td>\n",
              "      <td>It was formally established in 1475</td>\n",
              "    </tr>\n",
              "    <tr>\n",
              "      <th>1</th>\n",
              "      <td>The Vatican Apostolic Library (), more commonl...</td>\n",
              "      <td>what is the library for?</td>\n",
              "      <td>research</td>\n",
              "    </tr>\n",
              "    <tr>\n",
              "      <th>2</th>\n",
              "      <td>The Vatican Apostolic Library (), more commonl...</td>\n",
              "      <td>for what subjects?</td>\n",
              "      <td>history, and law</td>\n",
              "    </tr>\n",
              "    <tr>\n",
              "      <th>3</th>\n",
              "      <td>The Vatican Apostolic Library (), more commonl...</td>\n",
              "      <td>and?</td>\n",
              "      <td>philosophy, science and theology</td>\n",
              "    </tr>\n",
              "    <tr>\n",
              "      <th>4</th>\n",
              "      <td>The Vatican Apostolic Library (), more commonl...</td>\n",
              "      <td>what was started in 2014?</td>\n",
              "      <td>a  project</td>\n",
              "    </tr>\n",
              "  </tbody>\n",
              "</table>\n",
              "</div>\n",
              "      <button class=\"colab-df-convert\" onclick=\"convertToInteractive('df-78f0f1ce-f3aa-49a1-a101-11d334781dac')\"\n",
              "              title=\"Convert this dataframe to an interactive table.\"\n",
              "              style=\"display:none;\">\n",
              "        \n",
              "  <svg xmlns=\"http://www.w3.org/2000/svg\" height=\"24px\"viewBox=\"0 0 24 24\"\n",
              "       width=\"24px\">\n",
              "    <path d=\"M0 0h24v24H0V0z\" fill=\"none\"/>\n",
              "    <path d=\"M18.56 5.44l.94 2.06.94-2.06 2.06-.94-2.06-.94-.94-2.06-.94 2.06-2.06.94zm-11 1L8.5 8.5l.94-2.06 2.06-.94-2.06-.94L8.5 2.5l-.94 2.06-2.06.94zm10 10l.94 2.06.94-2.06 2.06-.94-2.06-.94-.94-2.06-.94 2.06-2.06.94z\"/><path d=\"M17.41 7.96l-1.37-1.37c-.4-.4-.92-.59-1.43-.59-.52 0-1.04.2-1.43.59L10.3 9.45l-7.72 7.72c-.78.78-.78 2.05 0 2.83L4 21.41c.39.39.9.59 1.41.59.51 0 1.02-.2 1.41-.59l7.78-7.78 2.81-2.81c.8-.78.8-2.07 0-2.86zM5.41 20L4 18.59l7.72-7.72 1.47 1.35L5.41 20z\"/>\n",
              "  </svg>\n",
              "      </button>\n",
              "      \n",
              "  <style>\n",
              "    .colab-df-container {\n",
              "      display:flex;\n",
              "      flex-wrap:wrap;\n",
              "      gap: 12px;\n",
              "    }\n",
              "\n",
              "    .colab-df-convert {\n",
              "      background-color: #E8F0FE;\n",
              "      border: none;\n",
              "      border-radius: 50%;\n",
              "      cursor: pointer;\n",
              "      display: none;\n",
              "      fill: #1967D2;\n",
              "      height: 32px;\n",
              "      padding: 0 0 0 0;\n",
              "      width: 32px;\n",
              "    }\n",
              "\n",
              "    .colab-df-convert:hover {\n",
              "      background-color: #E2EBFA;\n",
              "      box-shadow: 0px 1px 2px rgba(60, 64, 67, 0.3), 0px 1px 3px 1px rgba(60, 64, 67, 0.15);\n",
              "      fill: #174EA6;\n",
              "    }\n",
              "\n",
              "    [theme=dark] .colab-df-convert {\n",
              "      background-color: #3B4455;\n",
              "      fill: #D2E3FC;\n",
              "    }\n",
              "\n",
              "    [theme=dark] .colab-df-convert:hover {\n",
              "      background-color: #434B5C;\n",
              "      box-shadow: 0px 1px 3px 1px rgba(0, 0, 0, 0.15);\n",
              "      filter: drop-shadow(0px 1px 2px rgba(0, 0, 0, 0.3));\n",
              "      fill: #FFFFFF;\n",
              "    }\n",
              "  </style>\n",
              "\n",
              "      <script>\n",
              "        const buttonEl =\n",
              "          document.querySelector('#df-78f0f1ce-f3aa-49a1-a101-11d334781dac button.colab-df-convert');\n",
              "        buttonEl.style.display =\n",
              "          google.colab.kernel.accessAllowed ? 'block' : 'none';\n",
              "\n",
              "        async function convertToInteractive(key) {\n",
              "          const element = document.querySelector('#df-78f0f1ce-f3aa-49a1-a101-11d334781dac');\n",
              "          const dataTable =\n",
              "            await google.colab.kernel.invokeFunction('convertToInteractive',\n",
              "                                                     [key], {});\n",
              "          if (!dataTable) return;\n",
              "\n",
              "          const docLinkHtml = 'Like what you see? Visit the ' +\n",
              "            '<a target=\"_blank\" href=https://colab.research.google.com/notebooks/data_table.ipynb>data table notebook</a>'\n",
              "            + ' to learn more about interactive tables.';\n",
              "          element.innerHTML = '';\n",
              "          dataTable['output_type'] = 'display_data';\n",
              "          await google.colab.output.renderOutput(dataTable, element);\n",
              "          const docLink = document.createElement('div');\n",
              "          docLink.innerHTML = docLinkHtml;\n",
              "          element.appendChild(docLink);\n",
              "        }\n",
              "      </script>\n",
              "    </div>\n",
              "  </div>\n",
              "  "
            ]
          },
          "metadata": {},
          "execution_count": 7
        }
      ]
    },
    {
      "cell_type": "code",
      "source": [
        "print(\"total questions & answers: \", len(data))"
      ],
      "metadata": {
        "id": "gzFfhWntMtxu",
        "colab": {
          "base_uri": "https://localhost:8080/"
        },
        "outputId": "4e3b435e-5158-4cd1-8d94-c96b07984a3a"
      },
      "execution_count": 8,
      "outputs": [
        {
          "output_type": "stream",
          "name": "stdout",
          "text": [
            "total questions & answers:  108647\n"
          ]
        }
      ]
    },
    {
      "cell_type": "markdown",
      "source": [
        "STORING ALBERT PRETRAINED MODEL"
      ],
      "metadata": {
        "id": "ExskPR9mKrcR"
      }
    },
    {
      "cell_type": "code",
      "source": [
        "#get the model and tokenizer \n",
        "% pip install sentencepiece\n",
        "from transformers import (\n",
        "    AlbertConfig,\n",
        "    AlbertForQuestionAnswering,\n",
        "    AlbertTokenizer,\n",
        "    squad_convert_examples_to_features\n",
        ")\n",
        "from transformers import AutoTokenizer, AutoModelForQuestionAnswering\n",
        "\n",
        "tokenizer = AutoTokenizer.from_pretrained(\"ktrapeznikov/albert-xlarge-v2-squad-v2\")\n",
        "model = AlbertForQuestionAnswering.from_pretrained(\"ktrapeznikov/albert-xlarge-v2-squad-v2\")"
      ],
      "metadata": {
        "id": "Qv5eaobZMth3",
        "colab": {
          "base_uri": "https://localhost:8080/"
        },
        "outputId": "89d5692f-53f8-40ed-9884-07d1bdcfd7e2"
      },
      "execution_count": 60,
      "outputs": [
        {
          "output_type": "stream",
          "name": "stdout",
          "text": [
            "Requirement already satisfied: sentencepiece in /usr/local/lib/python3.7/dist-packages (0.1.96)\n"
          ]
        }
      ]
    },
    {
      "cell_type": "code",
      "source": [
        "random_num = np.random.randint(0,len(data))\n",
        "question = data[\"question\"][random_num]\n",
        "text = data[\"text\"][random_num]"
      ],
      "metadata": {
        "id": "aJhVRTV0sHD7"
      },
      "execution_count": 61,
      "outputs": []
    },
    {
      "cell_type": "code",
      "source": [
        "# tokenize question and text\n",
        "input_ids = tokenizer.encode(question, text)"
      ],
      "metadata": {
        "id": "celBC544sG9G"
      },
      "execution_count": 62,
      "outputs": []
    },
    {
      "cell_type": "code",
      "source": [
        "tokens = tokenizer.convert_ids_to_tokens(input_ids)\n",
        "\n",
        "for token, id in zip(tokens, input_ids):\n",
        "    print('{:8}{:8,}'.format(token,id))"
      ],
      "metadata": {
        "id": "3WNXYyUTsG5f",
        "colab": {
          "base_uri": "https://localhost:8080/"
        },
        "outputId": "eb50de2d-8853-429c-f31a-10420cd6add1"
      },
      "execution_count": 63,
      "outputs": [
        {
          "output_type": "stream",
          "name": "stdout",
          "text": [
            "[CLS]          2\n",
            "▁who          72\n",
            "'             22\n",
            "s             18\n",
            "▁life        201\n",
            "▁did         144\n",
            "▁she          39\n",
            "▁save      2,079\n",
            "?             60\n",
            "[SEP]          3\n",
            "▁several     238\n",
            "▁years       122\n",
            "▁ago       1,464\n",
            ",             15\n",
            "▁kevin     3,480\n",
            "▁stephan  11,987\n",
            ",             15\n",
            "▁then         94\n",
            "▁aged      4,056\n",
            "▁11          547\n",
            ",             15\n",
            "▁was          23\n",
            "▁playing     791\n",
            "▁baseball   1,845\n",
            "▁when         76\n",
            "▁a            21\n",
            "▁player      517\n",
            "▁accidentally   9,746\n",
            "▁hit         770\n",
            "▁him          61\n",
            "▁with         29\n",
            "▁a            21\n",
            "▁bat       3,570\n",
            ".              9\n",
            "▁kevin     3,480\n",
            "▁fell      1,139\n",
            "▁down        125\n",
            "▁and          17\n",
            "▁his          33\n",
            "▁heart       582\n",
            "▁stopped   1,175\n",
            ".              9\n",
            "▁penny    10,689\n",
            "▁brown       886\n",
            ",             15\n",
            "▁the          14\n",
            "▁mother      449\n",
            "▁of           16\n",
            "▁another     226\n",
            "▁player      517\n",
            ",             15\n",
            "▁was          23\n",
            "▁watching   1,953\n",
            "▁the          14\n",
            "▁game        250\n",
            ".              9\n",
            "penny     27,243\n",
            "▁usually     951\n",
            "▁worked      577\n",
            "▁in           19\n",
            "▁the          14\n",
            "▁evening   2,089\n",
            "s             18\n",
            "▁as           28\n",
            "▁a            21\n",
            "▁nurse     5,425\n",
            ",             15\n",
            "▁but          47\n",
            "▁luckily  18,499\n",
            "▁that         30\n",
            "▁evening   2,089\n",
            "▁she          39\n",
            "▁wasn        526\n",
            "'             22\n",
            "t             38\n",
            "▁working     638\n",
            ".              9\n",
            "▁penny    10,689\n",
            "▁ran         717\n",
            "▁to           20\n",
            "▁helped    1,456\n",
            "▁kevin     3,480\n",
            "▁and          17\n",
            "▁saved     4,377\n",
            "▁his          33\n",
            "▁life        201\n",
            ".              9\n",
            "▁nearly    1,212\n",
            "▁seven       810\n",
            "▁years       122\n",
            "▁later       138\n",
            ",             15\n",
            "▁kevin     3,480\n",
            "▁was          23\n",
            "▁washing  14,877\n",
            "▁up           71\n",
            "▁in           19\n",
            "▁the          14\n",
            "▁kitchen   1,949\n",
            "▁of           16\n",
            "▁the          14\n",
            "▁hill        948\n",
            "view       4,725\n",
            "▁restaurant   3,284\n",
            "▁in           19\n",
            "▁buffalo   5,915\n",
            ",             15\n",
            "▁new          78\n",
            "▁york        305\n",
            "▁state       146\n",
            ".              9\n",
            "▁normally   4,147\n",
            ",             15\n",
            "▁18          474\n",
            "-              8\n",
            "year         731\n",
            "-              8\n",
            "old        1,218\n",
            "▁kevin     3,480\n",
            "▁had          41\n",
            "▁school      116\n",
            "▁in           19\n",
            "▁the          14\n",
            "▁afternoon   3,435\n",
            ",             15\n",
            "▁but          47\n",
            "▁that         30\n",
            "▁week        877\n",
            "▁there        80\n",
            "▁were         46\n",
            "▁exams    15,954\n",
            "▁and          17\n",
            "▁he           24\n",
            "▁didn        223\n",
            "'             22\n",
            "t             38\n",
            "▁have         57\n",
            "▁any         186\n",
            "▁class       718\n",
            ".              9\n",
            "▁at           35\n",
            "▁about        88\n",
            "▁2           172\n",
            "▁p           351\n",
            ".              9\n",
            "m             79\n",
            ".              9\n",
            ",             15\n",
            "▁penny    10,689\n",
            "▁brown       886\n",
            "▁was          23\n",
            "▁having      452\n",
            "▁lunch     4,311\n",
            "▁with         29\n",
            "▁her          36\n",
            "▁family      190\n",
            "▁in           19\n",
            "▁the          14\n",
            "▁restaurant   3,284\n",
            ".              9\n",
            "▁she          39\n",
            "▁was          23\n",
            "▁eating    5,320\n",
            "▁when         76\n",
            "▁some        109\n",
            "▁food        950\n",
            "▁got         330\n",
            "▁stuck     4,549\n",
            "▁in           19\n",
            "▁her          36\n",
            "▁throat    1,972\n",
            ".              9\n",
            "▁she          39\n",
            "▁was          23\n",
            "▁very        253\n",
            "▁frightened  10,825\n",
            "▁because     185\n",
            "▁she          39\n",
            "▁couldn      711\n",
            "'             22\n",
            "t             38\n",
            "▁breathe   6,355\n",
            ".              9\n",
            "▁kevin     3,480\n",
            "▁was          23\n",
            "▁a            21\n",
            "▁volunteer   5,599\n",
            "▁fire        535\n",
            "fighter   15,857\n",
            "▁in           19\n",
            "▁his          33\n",
            "▁free        551\n",
            "▁time         85\n",
            "▁and          17\n",
            "▁he           24\n",
            "▁ran         717\n",
            "▁to           20\n",
            "▁help        448\n",
            ".              9\n",
            "▁a            21\n",
            "▁waitress  13,678\n",
            "▁tried       794\n",
            "▁to           20\n",
            "▁help        448\n",
            "▁her          36\n",
            ",             15\n",
            "▁but          47\n",
            "▁the          14\n",
            "▁food        950\n",
            "▁was          23\n",
            "▁still       174\n",
            "▁stuck     4,549\n",
            "▁in           19\n",
            "▁penny    10,689\n",
            "'             22\n",
            "s             18\n",
            "▁throat    1,972\n",
            ".              9\n",
            "▁kevin     3,480\n",
            "▁pulled      881\n",
            "▁his          33\n",
            "▁hands       473\n",
            "▁quickly     976\n",
            "▁into         77\n",
            "▁her          36\n",
            "▁stomach   2,656\n",
            "▁and          17\n",
            "▁saved     4,377\n",
            "▁penny    10,689\n",
            "'             22\n",
            "s             18\n",
            "▁life        201\n",
            ".              9\n",
            "▁he           24\n",
            "▁didn        223\n",
            "'             22\n",
            "t             38\n",
            "▁know        143\n",
            "▁it           32\n",
            "▁was          23\n",
            "▁penny    10,689\n",
            ",             15\n",
            "▁but          47\n",
            "▁his          33\n",
            "▁mother      449\n",
            ",             15\n",
            "▁lorraine  16,297\n",
            "▁stephan  11,987\n",
            ",             15\n",
            "▁was          23\n",
            "▁also         67\n",
            "▁having      452\n",
            "▁lunch     4,311\n",
            "▁in           19\n",
            "▁the          14\n",
            "▁restaurant   3,284\n",
            ".              9\n",
            "▁she          39\n",
            "▁realized   1,896\n",
            "▁that         30\n",
            "▁penny    10,689\n",
            "▁was          23\n",
            "▁the          14\n",
            "▁woman       524\n",
            "▁who          72\n",
            "▁saved     4,377\n",
            "▁kevin     3,480\n",
            "'             22\n",
            "s             18\n",
            "▁life        201\n",
            ",             15\n",
            "▁seven       810\n",
            "▁years       122\n",
            "▁before      115\n",
            ",             15\n",
            "▁at           35\n",
            "▁the          14\n",
            "▁baseball   1,845\n",
            "▁game        250\n",
            ".              9\n",
            "▁both        156\n",
            "▁penny    10,689\n",
            "▁and          17\n",
            "▁kevin     3,480\n",
            "▁were         46\n",
            "▁completely   1,524\n",
            "▁amazed   17,378\n",
            "▁by           34\n",
            "▁the          14\n",
            "▁coincidence  17,931\n",
            "▁             13\n",
            "!            187\n",
            "[SEP]          3\n"
          ]
        }
      ]
    },
    {
      "cell_type": "code",
      "source": [
        "#segmenting tokens in question and text \n",
        "idx = input_ids.index(tokenizer.sep_token_id)\n",
        "print(idx)\n",
        "\n",
        "#frequency of tokens in segment question\n",
        "segment_question = idx+1\n",
        "print(segment_question)\n",
        "\n",
        "#frequency of tokens in segment text\n",
        "segment_text = len(input_ids) - segment_question\n",
        "print(segment_text)\n",
        "\n",
        "segment_ids = [0]*segment_question + [1]*segment_text\n",
        "print(segment_ids)\n",
        "\n",
        "assert len(segment_ids) == len(input_ids)"
      ],
      "metadata": {
        "id": "gWMKHj7LJv5j",
        "colab": {
          "base_uri": "https://localhost:8080/"
        },
        "outputId": "6404a8d2-05f6-409c-8db1-5fc1ee2c2c9e"
      },
      "execution_count": 64,
      "outputs": [
        {
          "output_type": "stream",
          "name": "stdout",
          "text": [
            "9\n",
            "10\n",
            "283\n",
            "[0, 0, 0, 0, 0, 0, 0, 0, 0, 0, 1, 1, 1, 1, 1, 1, 1, 1, 1, 1, 1, 1, 1, 1, 1, 1, 1, 1, 1, 1, 1, 1, 1, 1, 1, 1, 1, 1, 1, 1, 1, 1, 1, 1, 1, 1, 1, 1, 1, 1, 1, 1, 1, 1, 1, 1, 1, 1, 1, 1, 1, 1, 1, 1, 1, 1, 1, 1, 1, 1, 1, 1, 1, 1, 1, 1, 1, 1, 1, 1, 1, 1, 1, 1, 1, 1, 1, 1, 1, 1, 1, 1, 1, 1, 1, 1, 1, 1, 1, 1, 1, 1, 1, 1, 1, 1, 1, 1, 1, 1, 1, 1, 1, 1, 1, 1, 1, 1, 1, 1, 1, 1, 1, 1, 1, 1, 1, 1, 1, 1, 1, 1, 1, 1, 1, 1, 1, 1, 1, 1, 1, 1, 1, 1, 1, 1, 1, 1, 1, 1, 1, 1, 1, 1, 1, 1, 1, 1, 1, 1, 1, 1, 1, 1, 1, 1, 1, 1, 1, 1, 1, 1, 1, 1, 1, 1, 1, 1, 1, 1, 1, 1, 1, 1, 1, 1, 1, 1, 1, 1, 1, 1, 1, 1, 1, 1, 1, 1, 1, 1, 1, 1, 1, 1, 1, 1, 1, 1, 1, 1, 1, 1, 1, 1, 1, 1, 1, 1, 1, 1, 1, 1, 1, 1, 1, 1, 1, 1, 1, 1, 1, 1, 1, 1, 1, 1, 1, 1, 1, 1, 1, 1, 1, 1, 1, 1, 1, 1, 1, 1, 1, 1, 1, 1, 1, 1, 1, 1, 1, 1, 1, 1, 1, 1, 1, 1, 1, 1, 1, 1, 1, 1, 1, 1, 1, 1, 1, 1, 1, 1, 1, 1, 1, 1, 1, 1, 1, 1, 1, 1, 1, 1, 1]\n"
          ]
        }
      ]
    },
    {
      "cell_type": "code",
      "source": [
        "\n",
        "# Feed the data to the model\n",
        "output = model(torch.tensor([input_ids]), token_type_ids=torch.tensor([segment_ids]))\n"
      ],
      "metadata": {
        "id": "zDEAVl4BsOhU"
      },
      "execution_count": 65,
      "outputs": []
    },
    {
      "cell_type": "code",
      "source": [
        "#generate start and end scores of tokens in answer\n",
        "start = torch.argmax(output.start_logits)\n",
        "end = torch.argmax(output.end_logits)\n"
      ],
      "metadata": {
        "id": "4G8Nqxm9sOeP"
      },
      "execution_count": 66,
      "outputs": []
    },
    {
      "cell_type": "code",
      "source": [
        "if end >= start:\n",
        "    answer = \" \".join(tokens[start:end+1])\n",
        "else:\n",
        "    print(\"Try another question!\")"
      ],
      "metadata": {
        "id": "lq-aScpJsx2A"
      },
      "execution_count": 67,
      "outputs": []
    },
    {
      "cell_type": "code",
      "source": [
        "\n",
        "start_scores = output.start_logits.detach().numpy().flatten()\n",
        "end_scores = output.end_logits.detach().numpy().flatten()\n",
        "\n",
        "token_labels = []\n",
        "for i, token in enumerate(tokens):\n",
        "    token_labels.append(\"{}-{}\".format(token,i))"
      ],
      "metadata": {
        "id": "dkz-sapusxyW"
      },
      "execution_count": 68,
      "outputs": []
    },
    {
      "cell_type": "code",
      "source": [
        "\n",
        "plt.rcParams[\"figure.figsize\"] = (20,10)\n",
        "ax = sns.barplot(x=token_labels[:80], y=start_scores[:80], ci=None)\n",
        "ax.set_xticklabels(ax.get_xticklabels(), rotation=90, ha=\"center\")\n",
        "ax.grid(True)\n",
        "plt.title(\"#first 100 tokensStart word scores\")\n",
        "plt.show()"
      ],
      "metadata": {
        "colab": {
          "base_uri": "https://localhost:8080/",
          "height": 682
        },
        "id": "Unhy2Rnns5Pe",
        "outputId": "f2e75a7f-2a96-4381-ce64-e3793aead6e8"
      },
      "execution_count": 69,
      "outputs": [
        {
          "output_type": "display_data",
          "data": {
            "text/plain": [
              "<Figure size 1440x720 with 1 Axes>"
            ],
            "image/png": "[encoded data removed]"
          },
          "metadata": {
            "needs_background": "light"
          }
        }
      ]
    },
    {
      "cell_type": "code",
      "source": [
        "\n",
        "plt.rcParams[\"figure.figsize\"] = (20,10)\n",
        "ax = sns.barplot(x=token_labels[-80:], y=start_scores[-80:], ci=None)\n",
        "ax.set_xticklabels(ax.get_xticklabels(), rotation=90, ha=\"center\")\n",
        "ax.grid(True)\n",
        "plt.title(\"last 100 tokensStart word scores\")\n",
        "plt.show()"
      ],
      "metadata": {
        "id": "p9ESW5bDs5Ia",
        "colab": {
          "base_uri": "https://localhost:8080/",
          "height": 688
        },
        "outputId": "4ef48eaa-7412-468c-d9e4-0b681eb4440f"
      },
      "execution_count": 70,
      "outputs": [
        {
          "output_type": "display_data",
          "data": {
            "text/plain": [
              "<Figure size 1440x720 with 1 Axes>"
            ],
            "image/png": "[encoded data removed]"
          },
          "metadata": {
            "needs_background": "light"
          }
        }
      ]
    },
    {
      "cell_type": "code",
      "source": [
        "answer = tokens[start]\n",
        "\n",
        "for i in range(start+1, end+1):\n",
        "    if tokens[i][0:2] == \"##\":\n",
        "        answer += tokens[i][2:]\n",
        "    else:\n",
        "        answer += \" \" + tokens[i]"
      ],
      "metadata": {
        "id": "9MVLSs65s4l0"
      },
      "execution_count": 71,
      "outputs": []
    },
    {
      "cell_type": "code",
      "source": [
        "def questionanswer(question, text):\n",
        "    \n",
        "    #tokenize question and text in ids as a pair\n",
        "    input_ids = tokenizer.encode(question, text)\n",
        "    \n",
        "    #string version of tokenized ids\n",
        "    tokens = tokenizer.convert_ids_to_tokens(input_ids)\n",
        "    \n",
        "    #segment IDs\n",
        "    #first occurence of [SEP] token\n",
        "    sep_idx = input_ids.index(tokenizer.sep_token_id)\n",
        "\n",
        "    #number of tokens in segment A - question\n",
        "    segment_question = sep_idx+1\n",
        "\n",
        "    #number of tokens in segment B - text\n",
        "    segment_answer = len(input_ids) - segment_question\n",
        "    \n",
        "    #list of 0s and 1s\n",
        "    segment_ids = [0]*segment_question + [1]*segment_answer\n",
        "    \n",
        "    assert len(segment_ids) == len(input_ids)\n",
        "    \n",
        "    #model output using input_ids and segment_ids\n",
        "    output = model(torch.tensor([input_ids]), token_type_ids=torch.tensor([segment_ids]))\n",
        "    \n",
        "    #compile the answer\n",
        "    start = torch.argmax(output.start_logits)\n",
        "    end = torch.argmax(output.end_logits)\n",
        "\n",
        "    if end >= start:\n",
        "        answer = tokens[start]\n",
        "        for i in range(start+1, end+1):\n",
        "            if tokens[i][0:2] == \"##\":\n",
        "                answer += tokens[i][2:]\n",
        "            else:\n",
        "                answer += \" \" + tokens[i]\n",
        "                \n",
        "    if answer.startswith(\"[CLS]\"):\n",
        "        answer = \"Unable to find the answer to your question.\"\n",
        "    print(\"\\nAnswer:\\n{}\".format(answer.capitalize()))"
      ],
      "metadata": {
        "id": "X4_lwJa2s4iM"
      },
      "execution_count": 72,
      "outputs": []
    },
    {
      "cell_type": "code",
      "source": [
        "text = \"\"\"Elon Reeve Musk FRS (/ˈiːlɒn/; born June 28, 1971) is an entrepreneur, investor, and business magnate. He is the founder, CEO, and Chief Engineer at SpaceX; early-stage investor, CEO, and Product Architect of Tesla, Inc.; founder of The Boring Company; and co-founder of Neuralink and OpenAI. With an estimated net worth of around US$273 billion as of April 2022,[6] Musk is the wealthiest person in the world according to both the Bloomberg Billionaires Index and the Forbes real-time billionaires list.[7][8] Musk was born to a Canadian mother and White South African father, and raised in Pretoria, South Africa. He briefly attended the University of Pretoria before moving to Canada at age 17 to avoid conscription. He was enrolled at Queen's University and transferred to the University of Pennsylvania two years later, where he received a bachelor's degree in economics and physics. He moved to California in 1995 to attend Stanford University but decided instead to pursue a business career, co-founding the web software company Zip2 with his brother Kimbal. The startup was acquired by Compaq for $307 million in 1999. The same year, Musk co-founded online bank X.com, which merged with Confinity in 2000 to form PayPal. The company was bought by eBay in 2002 for $1.5 billion.\"\"\"\n",
        "question = \"Where did elon musk attend?\"\n",
        "print(question)\n",
        "questionanswer(question, text)"
      ],
      "metadata": {
        "colab": {
          "base_uri": "https://localhost:8080/"
        },
        "id": "tBDKXhNntCVC",
        "outputId": "7f605b31-c175-42e1-e62c-b03a38be475d"
      },
      "execution_count": 73,
      "outputs": [
        {
          "output_type": "stream",
          "name": "stdout",
          "text": [
            "Where did elon musk attend?\n",
            "\n",
            "Answer:\n",
            "▁queen ' s ▁university ▁and ▁transferred ▁to ▁the ▁university ▁of ▁pennsylvania\n"
          ]
        }
      ]
    },
    {
      "cell_type": "code",
      "source": [
        ""
      ],
      "metadata": {
        "id": "QkQ1RWR-YmuX"
      },
      "execution_count": 23,
      "outputs": []
    },
    {
      "cell_type": "code",
      "source": [
        ""
      ],
      "metadata": {
        "id": "vtyp2Z9U8lpn"
      },
      "execution_count": 33,
      "outputs": []
    },
    {
      "cell_type": "code",
      "source": [
        ""
      ],
      "metadata": {
        "id": "j9AdrEZF8lmc"
      },
      "execution_count": null,
      "outputs": []
    },
    {
      "cell_type": "code",
      "source": [
        ""
      ],
      "metadata": {
        "id": "dzl86BYL8ljd"
      },
      "execution_count": null,
      "outputs": []
    },
    {
      "cell_type": "code",
      "source": [
        ""
      ],
      "metadata": {
        "id": "vSB6oLnU8lgB"
      },
      "execution_count": null,
      "outputs": []
    },
    {
      "cell_type": "code",
      "source": [
        ""
      ],
      "metadata": {
        "id": "vmM0Mpb08ldT"
      },
      "execution_count": null,
      "outputs": []
    },
    {
      "cell_type": "code",
      "source": [
        ""
      ],
      "metadata": {
        "id": "xQDtHSI08laL"
      },
      "execution_count": null,
      "outputs": []
    },
    {
      "cell_type": "code",
      "source": [
        ""
      ],
      "metadata": {
        "id": "YIeeRR178lXH"
      },
      "execution_count": null,
      "outputs": []
    }
  ]
}